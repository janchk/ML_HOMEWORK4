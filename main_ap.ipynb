{
  "nbformat": 4,
  "nbformat_minor": 0,
  "metadata": {
    "kernelspec": {
      "display_name": "Python 3",
      "language": "python",
      "name": "python3"
    },
    "language_info": {
      "codemirror_mode": {
        "name": "ipython",
        "version": 2
      },
      "file_extension": ".py",
      "mimetype": "text/x-python",
      "name": "python",
      "nbconvert_exporter": "python",
      "pygments_lexer": "ipython2",
      "version": "2.7.6"
    },
    "pycharm": {
      "stem_cell": {
        "cell_type": "raw",
        "source": [],
        "metadata": {
          "collapsed": false
        }
      }
    },
    "colab": {
      "name": "main_ap.ipynb",
      "provenance": [],
      "toc_visible": true
    }
  },
  "cells": [
    {
      "cell_type": "code",
      "metadata": {
        "id": "N3fvrzlNHrOC",
        "colab_type": "code",
        "colab": {
          "base_uri": "https://localhost:8080/",
          "height": 511
        },
        "outputId": "1afca6eb-0fd4-41ce-81bb-8b9298c97073"
      },
      "source": [
        "!git clone https://github.com/janchk/ML_HOMEWORK4\n",
        "!wget https://snap.stanford.edu/data/loc-gowalla_edges.txt.gz\n",
        "!wget  https://snap.stanford.edu/data/loc-gowalla_totalCheckins.txt.gz"
      ],
      "execution_count": 1,
      "outputs": [
        {
          "output_type": "stream",
          "text": [
            "Cloning into 'ML_HOMEWORK4'...\n",
            "remote: Enumerating objects: 48, done.\u001b[K\n",
            "remote: Counting objects:   2% (1/48)\u001b[K\rremote: Counting objects:   4% (2/48)\u001b[K\rremote: Counting objects:   6% (3/48)\u001b[K\rremote: Counting objects:   8% (4/48)\u001b[K\rremote: Counting objects:  10% (5/48)\u001b[K\rremote: Counting objects:  12% (6/48)\u001b[K\rremote: Counting objects:  14% (7/48)\u001b[K\rremote: Counting objects:  16% (8/48)\u001b[K\rremote: Counting objects:  18% (9/48)\u001b[K\rremote: Counting objects:  20% (10/48)\u001b[K\rremote: Counting objects:  22% (11/48)\u001b[K\rremote: Counting objects:  25% (12/48)\u001b[K\rremote: Counting objects:  27% (13/48)\u001b[K\rremote: Counting objects:  29% (14/48)\u001b[K\rremote: Counting objects:  31% (15/48)\u001b[K\rremote: Counting objects:  33% (16/48)\u001b[K\rremote: Counting objects:  35% (17/48)\u001b[K\rremote: Counting objects:  37% (18/48)\u001b[K\rremote: Counting objects:  39% (19/48)\u001b[K\rremote: Counting objects:  41% (20/48)\u001b[K\rremote: Counting objects:  43% (21/48)\u001b[K\rremote: Counting objects:  45% (22/48)\u001b[K\rremote: Counting objects:  47% (23/48)\u001b[K\rremote: Counting objects:  50% (24/48)\u001b[K\rremote: Counting objects:  52% (25/48)\u001b[K\rremote: Counting objects:  54% (26/48)\u001b[K\rremote: Counting objects:  56% (27/48)\u001b[K\rremote: Counting objects:  58% (28/48)\u001b[K\rremote: Counting objects:  60% (29/48)\u001b[K\rremote: Counting objects:  62% (30/48)\u001b[K\rremote: Counting objects:  64% (31/48)\u001b[K\rremote: Counting objects:  66% (32/48)\u001b[K\rremote: Counting objects:  68% (33/48)\u001b[K\rremote: Counting objects:  70% (34/48)\u001b[K\rremote: Counting objects:  72% (35/48)\u001b[K\rremote: Counting objects:  75% (36/48)\u001b[K\rremote: Counting objects:  77% (37/48)\u001b[K\rremote: Counting objects:  79% (38/48)\u001b[K\rremote: Counting objects:  81% (39/48)\u001b[K\rremote: Counting objects:  83% (40/48)\u001b[K\rremote: Counting objects:  85% (41/48)\u001b[K\rremote: Counting objects:  87% (42/48)\u001b[K\rremote: Counting objects:  89% (43/48)\u001b[K\rremote: Counting objects:  91% (44/48)\u001b[K\rremote: Counting objects:  93% (45/48)\u001b[K\rremote: Counting objects:  95% (46/48)\u001b[K\rremote: Counting objects:  97% (47/48)\u001b[K\rremote: Counting objects: 100% (48/48)\u001b[K\rremote: Counting objects: 100% (48/48), done.\u001b[K\n",
            "remote: Compressing objects:   2% (1/35)\u001b[K\rremote: Compressing objects:   5% (2/35)\u001b[K\rremote: Compressing objects:   8% (3/35)\u001b[K\rremote: Compressing objects:  11% (4/35)\u001b[K\rremote: Compressing objects:  14% (5/35)\u001b[K\rremote: Compressing objects:  17% (6/35)\u001b[K\rremote: Compressing objects:  20% (7/35)\u001b[K\rremote: Compressing objects:  22% (8/35)\u001b[K\rremote: Compressing objects:  25% (9/35)\u001b[K\rremote: Compressing objects:  28% (10/35)\u001b[K\rremote: Compressing objects:  31% (11/35)\u001b[K\rremote: Compressing objects:  34% (12/35)\u001b[K\rremote: Compressing objects:  37% (13/35)\u001b[K\rremote: Compressing objects:  40% (14/35)\u001b[K\rremote: Compressing objects:  42% (15/35)\u001b[K\rremote: Compressing objects:  45% (16/35)\u001b[K\rremote: Compressing objects:  48% (17/35)\u001b[K\rremote: Compressing objects:  51% (18/35)\u001b[K\rremote: Compressing objects:  54% (19/35)\u001b[K\rremote: Compressing objects:  57% (20/35)\u001b[K\rremote: Compressing objects:  60% (21/35)\u001b[K\rremote: Compressing objects:  62% (22/35)\u001b[K\rremote: Compressing objects:  65% (23/35)\u001b[K\rremote: Compressing objects:  68% (24/35)\u001b[K\rremote: Compressing objects:  71% (25/35)\u001b[K\rremote: Compressing objects:  74% (26/35)\u001b[K\rremote: Compressing objects:  77% (27/35)\u001b[K\rremote: Compressing objects:  80% (28/35)\u001b[K\rremote: Compressing objects:  82% (29/35)\u001b[K\rremote: Compressing objects:  85% (30/35)\u001b[K\rremote: Compressing objects:  88% (31/35)\u001b[K\rremote: Compressing objects:  91% (32/35)\u001b[K\rremote: Compressing objects:  94% (33/35)\u001b[K\rremote: Compressing objects:  97% (34/35)\u001b[K\rremote: Compressing objects: 100% (35/35)\u001b[K\rremote: Compressing objects: 100% (35/35), done.\u001b[K\n",
            "remote: Total 48 (delta 20), reused 35 (delta 10), pack-reused 0\u001b[K\n",
            "Unpacking objects: 100% (48/48), done.\n",
            "--2020-03-17 21:56:46--  https://snap.stanford.edu/data/loc-gowalla_edges.txt.gz\n",
            "Resolving snap.stanford.edu (snap.stanford.edu)... 171.64.75.80\n",
            "Connecting to snap.stanford.edu (snap.stanford.edu)|171.64.75.80|:443... connected.\n",
            "HTTP request sent, awaiting response... 200 OK\n",
            "Length: 6351523 (6.1M) [application/x-gzip]\n",
            "Saving to: ‘loc-gowalla_edges.txt.gz’\n",
            "\n",
            "loc-gowalla_edges.t 100%[===================>]   6.06M  2.74MB/s    in 2.2s    \n",
            "\n",
            "2020-03-17 21:56:48 (2.74 MB/s) - ‘loc-gowalla_edges.txt.gz’ saved [6351523/6351523]\n",
            "\n",
            "--2020-03-17 21:56:50--  https://snap.stanford.edu/data/loc-gowalla_totalCheckins.txt.gz\n",
            "Resolving snap.stanford.edu (snap.stanford.edu)... 171.64.75.80\n",
            "Connecting to snap.stanford.edu (snap.stanford.edu)|171.64.75.80|:443... connected.\n",
            "HTTP request sent, awaiting response... 200 OK\n",
            "Length: 105470044 (101M) [application/x-gzip]\n",
            "Saving to: ‘loc-gowalla_totalCheckins.txt.gz’\n",
            "\n",
            "loc-gowalla_totalCh 100%[===================>] 100.58M  29.1MB/s    in 5.0s    \n",
            "\n",
            "2020-03-17 21:56:55 (20.0 MB/s) - ‘loc-gowalla_totalCheckins.txt.gz’ saved [105470044/105470044]\n",
            "\n"
          ],
          "name": "stdout"
        }
      ]
    },
    {
      "cell_type": "code",
      "metadata": {
        "pycharm": {
          "name": "#%%\n"
        },
        "id": "FcguzIOMfz9l",
        "colab_type": "code",
        "colab": {}
      },
      "source": [
        "!gunzip loc-gowalla_edges.txt.gz\n",
        "!gunzip loc-gowalla_totalCheckins.txt.gz"
      ],
      "execution_count": 0,
      "outputs": []
    },
    {
      "cell_type": "code",
      "metadata": {
        "pycharm": {
          "name": "#%%\n"
        },
        "id": "b73EZcPLfz9r",
        "colab_type": "code",
        "colab": {}
      },
      "source": [
        "from ML_HOMEWORK4.src.ap_core import Ap\n",
        "from ML_HOMEWORK4.src.ap_data import load_edges, load_checkins\n",
        "import numpy as np\n",
        "from tqdm import tqdm\n",
        "\n",
        "ds_path = \"loc-gowalla_edges.txt\"\n",
        "chk_path = \"loc-gowalla_totalCheckins.txt\""
      ],
      "execution_count": 0,
      "outputs": []
    },
    {
      "cell_type": "code",
      "metadata": {
        "id": "dG7Pg2PQK8UP",
        "colab_type": "code",
        "colab": {}
      },
      "source": [
        "def get_intersect(gt, pred):\n",
        "    gt = set(gt)\n",
        "    pred = set(pred)\n",
        "    return len(gt.intersection(pred))\n",
        "\n",
        "\n",
        "csr_ds = load_edges(ds_path)\n",
        "checkins_train, checkins_test = load_checkins(chk_path)"
      ],
      "execution_count": 0,
      "outputs": []
    },
    {
      "cell_type": "code",
      "metadata": {
        "pycharm": {
          "is_executing": false
        },
        "id": "yth8YwHIHevH",
        "colab_type": "code",
        "colab": {}
      },
      "source": [
        "from ML_HOMEWORK4.src.ap_core import Ap\n",
        "from ML_HOMEWORK4.src.ap_data import load_edges, load_checkins\n",
        "import numpy as np\n",
        "from tqdm import tqdm\n",
        "\n",
        "ds_path = \"loc-gowalla_edges.txt\"\n",
        "chk_path = \"loc-gowalla_totalCheckins.txt\""
      ],
      "execution_count": 0,
      "outputs": []
    },
    {
      "cell_type": "code",
      "metadata": {
        "pycharm": {
          "name": "#%%\n",
          "is_executing": false
        },
        "id": "4PZgeudQHevR",
        "colab_type": "code",
        "colab": {}
      },
      "source": [
        "def get_intersect(gt, pred):\n",
        "    gt = set(gt)\n",
        "    pred = set(pred)\n",
        "    return len(gt.intersection(pred))\n",
        "\n",
        "\n",
        "csr_ds = load_edges(ds_path)\n",
        "checkins_train, checkins_test = load_checkins(chk_path)"
      ],
      "execution_count": 0,
      "outputs": []
    },
    {
      "cell_type": "code",
      "metadata": {
        "pycharm": {
          "name": "#%%\n",
          "is_executing": false
        },
        "id": "zXiyFZUFHevZ",
        "colab_type": "code",
        "outputId": "edf6a142-49a7-4d16-b146-6879dcff31a5",
        "colab": {
          "base_uri": "https://localhost:8080/",
          "height": 34
        }
      },
      "source": [
        "ap = Ap()\n",
        "ap.fit(csr_ds, 10)"
      ],
      "execution_count": 14,
      "outputs": [
        {
          "output_type": "stream",
          "text": [
            "100%|██████████| 10/10 [02:05<00:00, 12.71s/it]\n"
          ],
          "name": "stderr"
        }
      ]
    },
    {
      "cell_type": "code",
      "metadata": {
        "pycharm": {
          "name": "#%%\n",
          "is_executing": false
        },
        "id": "GMOch5FuHevg",
        "colab_type": "code",
        "outputId": "59305cee-afe3-41eb-95a0-13cfb07bfe1b",
        "colab": {
          "base_uri": "https://localhost:8080/",
          "height": 34
        }
      },
      "source": [
        "topn_base = ap.predict(checkins_train)\n",
        "cluster_prec = 0\n",
        "base_prec = 0\n",
        "norm = len(np.unique(checkins_test.user_id)) * 10\n",
        "for user_id in tqdm(np.unique(checkins_test.user_id)):\n",
        "    gt_locs = checkins_test.loc[checkins_test.user_id == user_id, \"location_id\"].values\n",
        "    if user_id in checkins_train.user_id:\n",
        "        train_locs = ap.predict(checkins_train, user_id)\n",
        "        cluster_prec += get_intersect(gt_locs, train_locs)\n",
        "        base_prec += get_intersect(gt_locs, topn_base)\n",
        "        # test_locs = ap.predict(checkins_test, user_id)\n",
        "\n"
      ],
      "execution_count": 17,
      "outputs": [
        {
          "output_type": "stream",
          "text": [
            "100%|██████████| 1071/1071 [00:32<00:00, 32.76it/s]\n"
          ],
          "name": "stderr"
        }
      ]
    },
    {
      "cell_type": "code",
      "metadata": {
        "pycharm": {
          "name": "#%%\n",
          "is_executing": false
        },
        "id": "cWyIHtimHevo",
        "colab_type": "code",
        "outputId": "b25b0e92-cbe6-4aca-e799-31a36dcef861",
        "colab": {
          "base_uri": "https://localhost:8080/",
          "height": 51
        }
      },
      "source": [
        "print(f\"Base AP {base_prec/norm}\")\n",
        "print(f\"Cluster AP {cluster_prec/norm}\")\n"
      ],
      "execution_count": 18,
      "outputs": [
        {
          "output_type": "stream",
          "text": [
            "Base AP 0.017180205415499535\n",
            "Cluster AP 0.046405228758169936\n"
          ],
          "name": "stdout"
        }
      ]
    }
  ]
}