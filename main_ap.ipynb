{
  "nbformat": 4,
  "nbformat_minor": 0,
  "metadata": {
    "kernelspec": {
      "display_name": "Python 3",
      "language": "python",
      "name": "python3"
    },
    "language_info": {
      "codemirror_mode": {
        "name": "ipython",
        "version": 2
      },
      "file_extension": ".py",
      "mimetype": "text/x-python",
      "name": "python",
      "nbconvert_exporter": "python",
      "pygments_lexer": "ipython2",
      "version": "2.7.6"
    },
    "pycharm": {
      "stem_cell": {
        "cell_type": "raw",
        "source": [],
        "metadata": {
          "collapsed": false
        }
      }
    },
    "colab": {
      "name": "main_ap.ipynb",
      "provenance": [],
      "toc_visible": true
    }
  },
  "cells": [
    {
      "cell_type": "code",
      "metadata": {
        "id": "N3fvrzlNHrOC",
        "colab_type": "code",
        "colab": {
          "base_uri": "https://localhost:8080/",
          "height": 491
        },
        "outputId": "94afe224-1b53-4431-aaec-539e2e1c4388"
      },
      "source": [
        "!git clone https://github.com/janchk/ML_HOMEWORK4\n",
        "!wget https://snap.stanford.edu/data/loc-gowalla_edges.txt.gz\n",
        "!wget  https://snap.stanford.edu/data/loc-gowalla_totalCheckins.txt.gz"
      ],
      "execution_count": 1,
      "outputs": [
        {
          "output_type": "stream",
          "text": [
            "Cloning into 'ML_HOMEWORK4'...\n",
            "remote: Enumerating objects: 39, done.\u001b[K\n",
            "remote: Counting objects: 100% (39/39), done.\u001b[K\n",
            "remote: Compressing objects: 100% (28/28), done.\u001b[K\n",
            "remote: Total 39 (delta 14), reused 31 (delta 8), pack-reused 0\u001b[K\n",
            "Unpacking objects: 100% (39/39), done.\n",
            "--2020-03-08 17:47:18--  https://snap.stanford.edu/data/loc-gowalla_edges.txt.gz\n",
            "Resolving snap.stanford.edu (snap.stanford.edu)... 171.64.75.80\n",
            "Connecting to snap.stanford.edu (snap.stanford.edu)|171.64.75.80|:443... connected.\n",
            "HTTP request sent, awaiting response... 200 OK\n",
            "Length: 6351523 (6.1M) [application/x-gzip]\n",
            "Saving to: ‘loc-gowalla_edges.txt.gz’\n",
            "\n",
            "loc-gowalla_edges.t 100%[===================>]   6.06M  2.51MB/s    in 2.4s    \n",
            "\n",
            "2020-03-08 17:47:21 (2.51 MB/s) - ‘loc-gowalla_edges.txt.gz’ saved [6351523/6351523]\n",
            "\n",
            "--2020-03-08 17:47:21--  https://snap.stanford.edu/data/loc-gowalla_totalCheckins.txt.gz\n",
            "Resolving snap.stanford.edu (snap.stanford.edu)... 171.64.75.80\n",
            "Connecting to snap.stanford.edu (snap.stanford.edu)|171.64.75.80|:443... connected.\n",
            "HTTP request sent, awaiting response... 200 OK\n",
            "Length: 105470044 (101M) [application/x-gzip]\n",
            "Saving to: ‘loc-gowalla_totalCheckins.txt.gz’\n",
            "\n",
            "loc-gowalla_totalCh 100%[===================>] 100.58M  21.7MB/s    in 6.7s    \n",
            "\n",
            "2020-03-08 17:47:29 (15.0 MB/s) - ‘loc-gowalla_totalCheckins.txt.gz’ saved [105470044/105470044]\n",
            "\n"
          ],
          "name": "stdout"
        }
      ]
    },
    {
      "cell_type": "code",
      "metadata": {
        "pycharm": {
          "name": "#%%\n"
        },
        "id": "3Z23kPEpQMSv",
        "colab_type": "code",
        "colab": {}
      },
      "source": [
        "!gunzip loc-gowalla_edges.txt.gz\n",
        "!gunzip loc-gowalla_totalCheckins.txt.gz"
      ],
      "execution_count": 0,
      "outputs": []
    },
    {
      "cell_type": "code",
      "metadata": {
        "pycharm": {
          "name": "#%%\n"
        },
        "id": "IbkSFhxFQMS3",
        "colab_type": "code",
        "colab": {}
      },
      "source": [
        "from ML_HOMEWORK4.src.ap_core import Ap\n",
        "from ML_HOMEWORK4.src.ap_data import load_edges, load_checkins\n",
        "import numpy as np\n",
        "from tqdm import tqdm\n",
        "\n",
        "ds_path = \"loc-gowalla_edges.txt\"\n",
        "chk_path = \"loc-gowalla_totalCheckins.txt\""
      ],
      "execution_count": 0,
      "outputs": []
    },
    {
      "cell_type": "code",
      "metadata": {
        "id": "dG7Pg2PQK8UP",
        "colab_type": "code",
        "colab": {}
      },
      "source": [
        "def get_intersect(gt, pred):\n",
        "    gt = set(gt)\n",
        "    pred = set(pred)\n",
        "    return len(gt.intersection(pred))\n",
        "\n",
        "\n",
        "csr_ds = load_edges(ds_path)\n",
        "checkins_train, checkins_test = load_checkins(chk_path)"
      ],
      "execution_count": 0,
      "outputs": []
    },
    {
      "cell_type": "code",
      "metadata": {
        "pycharm": {
          "is_executing": false
        },
        "id": "yth8YwHIHevH",
        "colab_type": "code",
        "colab": {}
      },
      "source": [
        "from ML_HOMEWORK4.src.ap_core import Ap\n",
        "from ML_HOMEWORK4.src.ap_data import load_edges, load_checkins\n",
        "import numpy as np\n",
        "from tqdm import tqdm\n",
        "\n",
        "ds_path = \"loc-gowalla_edges.txt\"\n",
        "chk_path = \"loc-gowalla_totalCheckins.txt\""
      ],
      "execution_count": 0,
      "outputs": []
    },
    {
      "cell_type": "code",
      "metadata": {
        "pycharm": {
          "name": "#%%\n",
          "is_executing": false
        },
        "id": "4PZgeudQHevR",
        "colab_type": "code",
        "colab": {}
      },
      "source": [
        "def get_intersect(gt, pred):\n",
        "    gt = set(gt)\n",
        "    pred = set(pred)\n",
        "    return len(gt.intersection(pred))\n",
        "\n",
        "\n",
        "csr_ds = load_edges(ds_path)\n",
        "checkins_train, checkins_test = load_checkins(chk_path)"
      ],
      "execution_count": 0,
      "outputs": []
    },
    {
      "cell_type": "code",
      "metadata": {
        "pycharm": {
          "name": "#%%\n",
          "is_executing": false
        },
        "id": "zXiyFZUFHevZ",
        "colab_type": "code",
        "outputId": "59895037-11dd-44df-f7e3-1bf685934e91",
        "colab": {
          "base_uri": "https://localhost:8080/",
          "height": 34
        }
      },
      "source": [
        "ap = Ap()\n",
        "ap.fit(csr_ds, 10)"
      ],
      "execution_count": 26,
      "outputs": [
        {
          "output_type": "stream",
          "text": [
            "100%|██████████| 10/10 [02:20<00:00, 14.28s/it]\n"
          ],
          "name": "stderr"
        }
      ]
    },
    {
      "cell_type": "code",
      "metadata": {
        "id": "_dWw9ETiRrGt",
        "colab_type": "code",
        "colab": {}
      },
      "source": [
        "clusters = ap.get_clusters()\n",
        "clust_sizes = [len(cluster) for cluster in clusters]"
      ],
      "execution_count": 0,
      "outputs": []
    },
    {
      "cell_type": "markdown",
      "metadata": {
        "id": "TrvkWu9bRDaY",
        "colab_type": "text"
      },
      "source": [
        "**Clusters info**"
      ]
    },
    {
      "cell_type": "code",
      "metadata": {
        "id": "tr04GsSQRISP",
        "colab_type": "code",
        "colab": {
          "base_uri": "https://localhost:8080/",
          "height": 279
        },
        "outputId": "824151f8-568d-48a2-b5fa-a44c1d062d27"
      },
      "source": [
        "import matplotlib.pyplot as plt\n",
        "%matplotlib inline\n",
        "plt.xlabel(\"Clusters size\")\n",
        "plt.ylabel(\"Clusters amount\")\n",
        "plt.hist(clust_sizes , bins=10)\n",
        "plt.show()"
      ],
      "execution_count": 28,
      "outputs": [
        {
          "output_type": "display_data",
          "data": {
            "image/png": "[encoded data removed]",
            "text/plain": [
              "<Figure size 432x288 with 1 Axes>"
            ]
          },
          "metadata": {
            "tags": []
          }
        }
      ]
    },
    {
      "cell_type": "code",
      "metadata": {
        "pycharm": {
          "name": "#%%\n",
          "is_executing": false
        },
        "id": "GMOch5FuHevg",
        "colab_type": "code",
        "outputId": "0626dbc0-40c5-4cf8-e03b-18a0dec608d8",
        "colab": {
          "base_uri": "https://localhost:8080/",
          "height": 34
        }
      },
      "source": [
        "topn_base = ap.predict(checkins_train)\n",
        "cluster_prec = 0\n",
        "base_prec = 0\n",
        "for user_id in tqdm(np.unique(checkins_test.user_id)):\n",
        "    gt_locs = checkins_test.loc[checkins_test.user_id == user_id, \"location_id\"].values\n",
        "    if user_id in checkins_train.user_id:\n",
        "        train_locs = ap.predict(checkins_train, user_id)\n",
        "        cluster_prec += get_intersect(gt_locs, train_locs) / len(gt_locs)\n",
        "        base_prec += get_intersect(gt_locs, topn_base) / len(gt_locs)\n",
        "        # test_locs = ap.predict(checkins_test, user_id)\n",
        "\n"
      ],
      "execution_count": 29,
      "outputs": [
        {
          "output_type": "stream",
          "text": [
            "100%|██████████| 31411/31411 [01:00<00:00, 518.10it/s]\n"
          ],
          "name": "stderr"
        }
      ]
    },
    {
      "cell_type": "code",
      "metadata": {
        "pycharm": {
          "name": "#%%\n",
          "is_executing": false
        },
        "id": "cWyIHtimHevo",
        "colab_type": "code",
        "outputId": "2ac9998e-de1d-4740-9e32-dc7e47e0d6e4",
        "colab": {
          "base_uri": "https://localhost:8080/",
          "height": 51
        }
      },
      "source": [
        "print(f\"Base AP {base_prec/len(np.unique(checkins_test.user_id))}\")\n",
        "print(f\"Cluster AP {cluster_prec/len(np.unique(checkins_test.user_id))}\")\n"
      ],
      "execution_count": 30,
      "outputs": [
        {
          "output_type": "stream",
          "text": [
            "Base AP 0.0062758236949410845\n",
            "Cluster AP 0.1744175064712727\n"
          ],
          "name": "stdout"
        }
      ]
    }
  ]
}