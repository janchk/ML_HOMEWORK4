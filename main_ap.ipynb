{
 "nbformat": 4,
 "nbformat_minor": 0,
 "metadata": {
  "kernelspec": {
   "display_name": "Python 3",
   "language": "python",
   "name": "python3"
  },
  "language_info": {
   "codemirror_mode": {
    "name": "ipython",
    "version": 2
   },
   "file_extension": ".py",
   "mimetype": "text/x-python",
   "name": "python",
   "nbconvert_exporter": "python",
   "pygments_lexer": "ipython2",
   "version": "2.7.6"
  },
  "pycharm": {
   "stem_cell": {
    "cell_type": "raw",
    "source": [],
    "metadata": {
     "collapsed": false
    }
   }
  },
  "colab": {
   "name": "main_ap.ipynb",
   "provenance": []
  }
 },
 "cells": [
  {
   "cell_type": "code",
   "metadata": {
    "id": "N3fvrzlNHrOC",
    "colab_type": "code",
    "colab": {}
   },
   "source": [
    "!git clone https://github.com/janchk/ML_HOMEWORK4\n",
    "!wget https://snap.stanford.edu/data/loc-gowalla_edges.txt.gz\n",
    "!wget  https://snap.stanford.edu/data/loc-gowalla_totalCheckins.txt.gz"
   ],
   "execution_count": 0,
   "outputs": []
  },
  {
   "cell_type": "code",
   "execution_count": null,
   "outputs": [],
   "source": [
    "!gunzip loc-gowalla_edges.txt.gz\n",
    "!gunzip loc-gowalla_totalCheckins.txt.gz"
   ],
   "metadata": {
    "collapsed": false,
    "pycharm": {
     "name": "#%%\n"
    }
   }
  },
  {
   "cell_type": "code",
   "execution_count": null,
   "outputs": [],
   "source": [
    "from ML_HOMEWORK4.src.ap_core import Ap\n",
    "from ML_HOMEWORK4.src.ap_data import load_edges, load_checkins\n",
    "import numpy as np\n",
    "from tqdm import tqdm\n",
    "\n",
    "ds_path = \"loc-gowalla_edges.txt\"\n",
    "chk_path = \"loc-gowalla_totalCheckins.txt\""
   ],
   "metadata": {
    "collapsed": false,
    "pycharm": {
     "name": "#%%\n"
    }
   }
  },
  {
   "cell_type": "code",
   "metadata": {
    "id": "dG7Pg2PQK8UP",
    "colab_type": "code",
    "colab": {}
   },
   "source": [
    "def get_intersect(gt, pred):\n",
    "    gt = set(gt)\n",
    "    pred = set(pred)\n",
    "    return len(gt.intersection(pred))\n",
    "\n",
    "\n",
    "csr_ds = load_edges(ds_path)\n",
    "checkins_train, checkins_test = load_checkins(chk_path)"
   ],
   "execution_count": 0,
   "outputs": []
  },
  {
   "cell_type": "code",
   "metadata": {
    "pycharm": {
     "is_executing": false
    },
    "id": "yth8YwHIHevH",
    "colab_type": "code",
    "colab": {}
   },
   "source": [
    "from ML_HOMEWORK4.src.ap_core import Ap\n",
    "from ML_HOMEWORK4.src.ap_data import load_edges, load_checkins\n",
    "import numpy as np\n",
    "from tqdm import tqdm\n",
    "\n",
    "ds_path = \"loc-gowalla_edges.txt\"\n",
    "chk_path = \"loc-gowalla_totalCheckins.txt\""
   ],
   "execution_count": 0,
   "outputs": []
  },
  {
   "cell_type": "code",
   "metadata": {
    "pycharm": {
     "name": "#%%\n",
     "is_executing": false
    },
    "id": "4PZgeudQHevR",
    "colab_type": "code",
    "colab": {}
   },
   "source": [
    "def get_intersect(gt, pred):\n",
    "    gt = set(gt)\n",
    "    pred = set(pred)\n",
    "    return len(gt.intersection(pred))\n",
    "\n",
    "\n",
    "csr_ds = load_edges(ds_path)\n",
    "checkins_train, checkins_test = load_checkins(chk_path)"
   ],
   "execution_count": 0,
   "outputs": []
  },
  {
   "cell_type": "code",
   "metadata": {
    "pycharm": {
     "name": "#%%\n",
     "is_executing": false
    },
    "id": "zXiyFZUFHevZ",
    "colab_type": "code",
    "colab": {},
    "outputId": "34ab96f0-3066-4d60-9624-81dbfb637182"
   },
   "source": [
    "ap = Ap()\n",
    "ap.fit(csr_ds, 1)"
   ],
   "execution_count": 0,
   "outputs": [
    {
     "output_type": "stream",
     "text": [
      "  0%|          | 0/1 [00:00<?, ?it/s]/home/jan/PycharmProjects/ML_HOMEWORK4/venv/lib/python3.6/site-packages/scipy/sparse/_index.py:126: SparseEfficiencyWarning: Changing the sparsity structure of a csr_matrix is expensive. lil_matrix is more efficient.\n",
      "  self._set_arrayXarray(i, j, x)\n",
      "100%|██████████| 1/1 [00:19<00:00, 19.09s/it]\n"
     ],
     "name": "stderr"
    }
   ]
  },
  {
   "cell_type": "code",
   "metadata": {
    "pycharm": {
     "name": "#%%\n",
     "is_executing": false
    },
    "id": "GMOch5FuHevg",
    "colab_type": "code",
    "colab": {},
    "outputId": "ac723ae1-04ae-4ed2-8e18-1ee71be902a8"
   },
   "source": [
    "topn_base = ap.predict(checkins_train)\n",
    "cluster_prec = 0\n",
    "base_prec = 0\n",
    "for user_id in tqdm(np.unique(checkins_test.user_id)):\n",
    "    gt_locs = checkins_test.loc[checkins_test.user_id == user_id, \"location_id\"].values\n",
    "    if user_id in checkins_train.user_id:\n",
    "        train_locs = ap.predict(checkins_train, user_id)\n",
    "        cluster_prec += get_intersect(gt_locs, train_locs) / len(gt_locs)\n",
    "        base_prec += get_intersect(gt_locs, topn_base) / len(gt_locs)\n",
    "        # test_locs = ap.predict(checkins_test, user_id)\n",
    "\n"
   ],
   "execution_count": 0,
   "outputs": [
    {
     "output_type": "stream",
     "text": [
      "100%|██████████| 31421/31421 [07:38<00:00, 68.56it/s]\n"
     ],
     "name": "stderr"
    }
   ]
  },
  {
   "cell_type": "code",
   "metadata": {
    "pycharm": {
     "name": "#%%\n",
     "is_executing": false
    },
    "id": "cWyIHtimHevo",
    "colab_type": "code",
    "colab": {},
    "outputId": "6d676db4-55ad-48fa-b3a0-6902768b788f"
   },
   "source": [
    "print(f\"Base AP {base_prec/len(np.unique(checkins_test.user_id))}\")\n",
    "print(f\"Cluster AP {cluster_prec/len(np.unique(checkins_test.user_id))}\")\n"
   ],
   "execution_count": 0,
   "outputs": [
    {
     "output_type": "stream",
     "text": [
      "Base AP 0.012316603545399573\n",
      "Cluster AP 0.3302250087521085\n"
     ],
     "name": "stdout"
    }
   ]
  }
 ]
}