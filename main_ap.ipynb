{
 "cells": [
  {
   "cell_type": "code",
   "execution_count": 1,
   "metadata": {
    "collapsed": true,
    "pycharm": {
     "is_executing": false
    }
   },
   "outputs": [],
   "source": [
    "from src.ap_core import Ap\n",
    "import numpy as np\n",
    "from src.ap_data import load_edges, load_checkins\n",
    "from tqdm import tqdm\n",
    "\n",
    "ds_path = \"data/loc-gowalla_edges.txt\"\n",
    "chk_path = \"data/loc-gowalla_totalCheckins.txt\""
   ]
  },
  {
   "cell_type": "code",
   "execution_count": 2,
   "outputs": [],
   "source": [
    "def get_intersect(gt, pred):\n",
    "    gt = set(gt)\n",
    "    pred = set(pred)\n",
    "    return len(gt.intersection(pred))\n",
    "\n",
    "\n",
    "csr_ds = load_edges(ds_path)\n",
    "checkins_train, checkins_test = load_checkins(chk_path)"
   ],
   "metadata": {
    "collapsed": false,
    "pycharm": {
     "name": "#%%\n",
     "is_executing": false
    }
   }
  },
  {
   "cell_type": "code",
   "execution_count": 3,
   "outputs": [
    {
     "name": "stderr",
     "text": [
      "  0%|          | 0/1 [00:00<?, ?it/s]/home/jan/PycharmProjects/ML_HOMEWORK4/venv/lib/python3.6/site-packages/scipy/sparse/_index.py:126: SparseEfficiencyWarning: Changing the sparsity structure of a csr_matrix is expensive. lil_matrix is more efficient.\n",
      "  self._set_arrayXarray(i, j, x)\n",
      "100%|██████████| 1/1 [00:19<00:00, 19.09s/it]\n"
     ],
     "output_type": "stream"
    }
   ],
   "source": [
    "ap = Ap()\n",
    "ap.fit(csr_ds, 1)"
   ],
   "metadata": {
    "collapsed": false,
    "pycharm": {
     "name": "#%%\n",
     "is_executing": false
    }
   }
  },
  {
   "cell_type": "code",
   "execution_count": 4,
   "outputs": [
    {
     "name": "stderr",
     "text": [
      "100%|██████████| 31421/31421 [07:38<00:00, 68.56it/s]\n"
     ],
     "output_type": "stream"
    }
   ],
   "source": [
    "topn_base = ap.predict(checkins_train)\n",
    "cluster_prec = 0\n",
    "base_prec = 0\n",
    "for user_id in tqdm(np.unique(checkins_test.user_id)):\n",
    "    gt_locs = checkins_test.loc[checkins_test.user_id == user_id, \"location_id\"].values\n",
    "    if user_id in checkins_train.user_id:\n",
    "        train_locs = ap.predict(checkins_train, user_id)\n",
    "        cluster_prec += get_intersect(gt_locs, train_locs) / len(gt_locs)\n",
    "        base_prec += get_intersect(gt_locs, topn_base) / len(gt_locs)\n",
    "        # test_locs = ap.predict(checkins_test, user_id)\n",
    "\n"
   ],
   "metadata": {
    "collapsed": false,
    "pycharm": {
     "name": "#%%\n",
     "is_executing": false
    }
   }
  },
  {
   "cell_type": "code",
   "execution_count": 5,
   "outputs": [
    {
     "name": "stdout",
     "text": [
      "Base AP 0.012316603545399573\n",
      "Cluster AP 0.3302250087521085\n"
     ],
     "output_type": "stream"
    }
   ],
   "source": [
    "print(f\"Base AP {base_prec/len(np.unique(checkins_test.user_id))}\")\n",
    "print(f\"Cluster AP {cluster_prec/len(np.unique(checkins_test.user_id))}\")\n"
   ],
   "metadata": {
    "collapsed": false,
    "pycharm": {
     "name": "#%%\n",
     "is_executing": false
    }
   }
  }
 ],
 "metadata": {
  "kernelspec": {
   "display_name": "Python 3",
   "language": "python",
   "name": "python3"
  },
  "language_info": {
   "codemirror_mode": {
    "name": "ipython",
    "version": 2
   },
   "file_extension": ".py",
   "mimetype": "text/x-python",
   "name": "python",
   "nbconvert_exporter": "python",
   "pygments_lexer": "ipython2",
   "version": "2.7.6"
  },
  "pycharm": {
   "stem_cell": {
    "cell_type": "raw",
    "source": [],
    "metadata": {
     "collapsed": false
    }
   }
  }
 },
 "nbformat": 4,
 "nbformat_minor": 0
}